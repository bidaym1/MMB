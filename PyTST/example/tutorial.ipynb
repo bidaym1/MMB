{
 "cells": [
  {
   "cell_type": "code",
   "execution_count": 1,
   "metadata": {},
   "outputs": [],
   "source": [
    "import random\n",
    "import PyTST.CPM"
   ]
  },
  {
   "cell_type": "markdown",
   "metadata": {},
   "source": [
    "The module PyTST.CPM provides the classes Interface and CallbackWrapper.\n",
    "To initialize the model, run:"
   ]
  },
  {
   "cell_type": "code",
   "execution_count": 2,
   "metadata": {},
   "outputs": [],
   "source": [
    "cpm = PyTST.CPM.Interface(\"chemotaxis.par\")  # initialize TST with chemotaxis.par"
   ]
  },
  {
   "cell_type": "markdown",
   "metadata": {},
   "source": [
    "Using the method run(its), we run the model for its Monte Carlo steps:"
   ]
  },
  {
   "cell_type": "code",
   "execution_count": 3,
   "metadata": {},
   "outputs": [],
   "source": [
    "cpm.run(1000)"
   ]
  },
  {
   "cell_type": "markdown",
   "metadata": {},
   "source": [
    "This runs vanilla TST. To modify the algorithm one should subclass CallbackWrapper. This wrapper provides the following hooks:\n",
    "\n",
    "init(sigma):\n",
    "This method gets called once after initialization of Dish in TST.\n",
    "sigma is the initialized spin matrix\n",
    "\n",
    "copy_attempt(sigma,x,y,xp,yp,ext_DH,s):\n",
    "Called from the main loop of AmoebaeMove in TST. First TST computes DH as usual. The resulting DH is passed as ext_DH, with s the connectivity dissipation.\n",
    "Return True when the copy attempt gets accepted.\n",
    "\n",
    "timestep(sigma):\n",
    "Called each Monte Carlo timestep.\n",
    "\n",
    "Furthermore, CallbackWrapper provides the method copy_prob(DH,s), which computes the acceptance probability as usual.\n",
    "\n",
    "\n",
    "An example of a typical decoration of the subclass:"
   ]
  },
  {
   "cell_type": "code",
   "execution_count": 5,
   "metadata": {},
   "outputs": [],
   "source": [
    "class cbWrap(PyTST.CPM.CallbackWrapper):\n",
    "    def init(self,sigma):\n",
    "        # called upon initialization of CPM code\n",
    "        pass\n",
    "\n",
    "    def copy_attempt(self,sigma,x,y,xp,yp,ext_DH,stiffness):\n",
    "        # determines whether copy attempt gets accepted\n",
    "        DH = ext_DH + self.DeltaH(x,y,xp,yp)\n",
    "        copy_accepted = self.copy_accept(DH,stiffness)\n",
    "        if copy_accepted:\n",
    "            self.commit_move(x,y,xp,yp)\n",
    "        return copy_accepted\n",
    "\n",
    "    def copy_accept(self,DH,s):\n",
    "        # decide whehter copy gets accepted based on energy differential\n",
    "        # return True when accepted\n",
    "        p = self.copy_prob(DH,s) # self.copy_prob is provided by libTST\n",
    "        s = random.uniform(0,1)\n",
    "        return s <= p\n",
    "\n",
    "    def DeltaH(self,x,y,xp,yp):\n",
    "        # determines virtual work\n",
    "        return 0\n",
    "\n",
    "    def commit_move(self,x,y,xp,yp):\n",
    "        # called whenever copy attempt has been accepted\n",
    "        pass\n",
    "\n",
    "    def timestep(self,sigma):\n",
    "        # called each Monte Carlo timestep\n",
    "        pass"
   ]
  },
  {
   "cell_type": "markdown",
   "metadata": {},
   "source": [
    "To load the wrapper, run:"
   ]
  },
  {
   "cell_type": "code",
   "execution_count": 5,
   "metadata": {},
   "outputs": [],
   "source": [
    "cb = cbWrap()\n",
    "cpm.set_callback_wrapper(cb)"
   ]
  },
  {
   "cell_type": "markdown",
   "metadata": {},
   "source": []
  }
 ],
 "metadata": {
  "kernelspec": {
   "display_name": "Python 3",
   "language": "python",
   "name": "python3"
  },
  "language_info": {
   "codemirror_mode": {
    "name": "ipython",
    "version": 3
   },
   "file_extension": ".py",
   "mimetype": "text/x-python",
   "name": "python",
   "nbconvert_exporter": "python",
   "pygments_lexer": "ipython3",
   "version": "3.7.1"
  }
 },
 "nbformat": 4,
 "nbformat_minor": 4
}
